{
 "cells": [
  {
   "cell_type": "code",
   "execution_count": null,
   "source": [
    "import os\r\n",
    "from keras.preprocessing import image\r\n",
    "import matplotlib.pyplot as plt \r\n",
    "import numpy as np\r\n",
    "from keras.utils.np_utils import to_categorical\r\n",
    "import random,shutil\r\n",
    "from keras.models import Sequential\r\n",
    "from keras.layers import Dropout,Conv2D,Flatten,Dense, MaxPooling2D, BatchNormalization\r\n",
    "from keras.models import load_model\r\n",
    "\r\n",
    "def generator(dir, gen=image.ImageDataGenerator(rescale=1./255), shuffle=True,batch_size=1,target_size=(24,24),class_mode='categorical'):\r\n",
    "    return gen.flow_from_directory(dir,batch_size=batch_size,shuffle=shuffle,color_mode='grayscale',class_mode=class_mode,target_size=target_size)\r\n",
    "\r\n",
    "BS= 32 \r\n",
    "TS=(24,24)\r\n",
    "train_batch= generator('data/train',shuffle=True, batch_size=BS,target_size=TS)\r\n",
    "valid_batch= generator('data/valid',shuffle=True, batch_size=BS,target_size=TS)\r\n",
    "SPE= len(train_batch.classes)//BS\r\n",
    "VS = len(valid_batch.classes)//BS\r\n",
    "print(SPE,VS)\r\n",
    "\r\n",
    "# img,labels= next(train_batch)\r\n",
    "# print(img.shape)\r\n",
    "\r\n",
    "model = Sequential([\r\n",
    "    Conv2D(32, kernel_size=(3, 3), activation='relu', input_shape=(24,24,1)),\r\n",
    "    MaxPooling2D(pool_size=(1,1)),\r\n",
    "    Conv2D(32,(3,3),activation='relu'),\r\n",
    "    MaxPooling2D(pool_size=(1,1)),\r\n",
    "#32 convolution filters used each of size 3x3\r\n",
    "#again\r\n",
    "    Conv2D(64, (3, 3), activation='relu'),\r\n",
    "    MaxPooling2D(pool_size=(1,1)),\r\n",
    "    \r\n",
    "#64 convolution filters used each of size 3x3\r\n",
    "#choose the best features via pooling\r\n",
    "    \r\n",
    "#randomly turn neurons on and off to improve convergence\r\n",
    "    Dropout(0.25),\r\n",
    "#flatten since too many dimensions, we only want a classification output\r\n",
    "    Flatten(),\r\n",
    "#fully connected to get all relevant data\r\n",
    "    Dense(128, activation='relu'),\r\n",
    "#one more dropout for convergence' sake :) \r\n",
    "    Dropout(0.5),\r\n",
    "#output a softmax to squash the matrix into output probabilities\r\n",
    "    Dense(2, activation='softmax')\r\n",
    "])\r\n",
    "\r\n",
    "model.compile(optimizer='adam',loss='categorical_crossentropy',metrics=['accuracy'])\r\n",
    "\r\n",
    "model.fit_generator(train_batch, validation_data=valid_batch,epochs=15,steps_per_epoch=SPE ,validation_steps=VS)\r\n",
    "\r\n",
    "model.save('models/cnnCat2.h5', overwrite=True)"
   ],
   "outputs": [],
   "metadata": {}
  }
 ],
 "metadata": {
  "kernelspec": {
   "display_name": "Python 3 (ipykernel)",
   "language": "python",
   "name": "python3"
  },
  "language_info": {
   "codemirror_mode": {
    "name": "ipython",
    "version": 3
   },
   "file_extension": ".py",
   "mimetype": "text/x-python",
   "name": "python",
   "nbconvert_exporter": "python",
   "pygments_lexer": "ipython3",
   "version": "3.8.11"
  }
 },
 "nbformat": 4,
 "nbformat_minor": 5
}