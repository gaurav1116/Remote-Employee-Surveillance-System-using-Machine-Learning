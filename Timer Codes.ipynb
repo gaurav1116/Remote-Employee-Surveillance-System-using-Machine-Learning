{
 "cells": [
  {
   "cell_type": "code",
   "execution_count": 1,
   "id": "62574070",
   "metadata": {},
   "outputs": [
    {
     "name": "stdout",
     "output_type": "stream",
     "text": [
      "Fire in the hole!!\n"
     ]
    }
   ],
   "source": [
    "# import time;\n",
    "\n",
    "# # localtime = time.asctime( time.localtime(time.time()) )\n",
    "# # print (\"Local current time :\", localtime)\n",
    "  \n",
    "# # define the countdown func.\n",
    "# def countdown(t):\n",
    "    \n",
    "#     while t:\n",
    "#         mins, secs = divmod(t, 60)\n",
    "#         timer = '{:02d}:{:02d}'.format(mins, secs)\n",
    "#         print(timer, end=\"\\r\")\n",
    "#         time.sleep(1)\n",
    "#         t -= 1\n",
    "      \n",
    "#     print('Fire in the hole!!')\n",
    "  \n",
    "  \n",
    "# # input time in seconds\n",
    "# t = 10\n",
    "  \n",
    "# # function call\n",
    "# countdown(int(t))"
   ]
  },
  {
   "cell_type": "code",
   "execution_count": null,
   "id": "2aaac673",
   "metadata": {},
   "outputs": [],
   "source": [
    "import datetime \n",
    "import os\n",
    "\n",
    "def getAviNameWithDate(nameIn=\"output.avi\"):\n",
    "    \"\"\"Needs a file ending on .avi, inserts _<date> before .avi. \n",
    "\n",
    "    If file exists, it appends a additional _number after the <date> \n",
    "    ensuring filename uniqueness at this time.\"\"\"\n",
    "    if not nameIn.endswith(\".avi\"):\n",
    "        raise ValueError(\"filename must end on .avi\")\n",
    "\n",
    "    filename = nameIn.replace(\".avi\",\"_{0}.avi\")\n",
    "                     .format(datetime.datetime.now().strftime(\"%Y-%m-%d\"))\n",
    "\n",
    "    if os.path.isfile(filename):             # if already exists\n",
    "        fn2 = filename[0:-4]+'_{0}.avi'          # modify pattern to include a number\n",
    "        count = 1\n",
    "        while os.path.isfile(fn2.format(count)): # increase number until file not exists\n",
    "            count += 1\n",
    "        return fn2.format(count)                 # return file with number in it\n",
    "\n",
    "    else:                                    # filename ok, return it\n",
    "        return filename\n",
    "\n",
    "# test it   \n",
    "for _ in range(5):\n",
    "    with open(getAviNameWithDate(\"a.avi\"),\"w\") as w:\n",
    "        w.write(\"1\")"
   ]
  }
 ],
 "metadata": {
  "kernelspec": {
   "display_name": "Python 3 (ipykernel)",
   "language": "python",
   "name": "python3"
  },
  "language_info": {
   "codemirror_mode": {
    "name": "ipython",
    "version": 3
   },
   "file_extension": ".py",
   "mimetype": "text/x-python",
   "name": "python",
   "nbconvert_exporter": "python",
   "pygments_lexer": "ipython3",
   "version": "3.8.11"
  }
 },
 "nbformat": 4,
 "nbformat_minor": 5
}
