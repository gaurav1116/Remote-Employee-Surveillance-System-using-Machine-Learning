{
 "cells": [
  {
   "cell_type": "code",
   "execution_count": null,
   "source": [
    "# import time;\r\n",
    "\r\n",
    "# # localtime = time.asctime( time.localtime(time.time()) )\r\n",
    "# # print (\"Local current time :\", localtime)\r\n",
    "  \r\n",
    "# # define the countdown func.\r\n",
    "# def countdown(t):\r\n",
    "    \r\n",
    "#     while t:\r\n",
    "#         mins, secs = divmod(t, 60)\r\n",
    "#         timer = '{:02d}:{:02d}'.format(mins, secs)\r\n",
    "#         print(timer, end=\"\\r\")\r\n",
    "#         time.sleep(1)\r\n",
    "#         t -= 1\r\n",
    "      \r\n",
    "#     print('Fire in the hole!!')\r\n",
    "  \r\n",
    "  \r\n",
    "# # input time in seconds\r\n",
    "# t = 10\r\n",
    "  \r\n",
    "# # function call\r\n",
    "# countdown(int(t))"
   ],
   "outputs": [],
   "metadata": {}
  },
  {
   "cell_type": "code",
   "execution_count": null,
   "source": [
    "# import datetime \r\n",
    "# import os\r\n",
    "\r\n",
    "# def getAviNameWithDate(nameIn=\"output.avi\"):\r\n",
    "#     \"\"\"Needs a file ending on .avi, inserts _<date> before .avi. \r\n",
    "\r\n",
    "#     If file exists, it appends a additional _number after the <date> \r\n",
    "#     ensuring filename uniqueness at this time.\"\"\"\r\n",
    "#     if not nameIn.endswith(\".avi\"):\r\n",
    "#         raise ValueError(\"filename must end on .avi\")\r\n",
    "\r\n",
    "#     filename = nameIn.replace(\".avi\",\"_{0}.avi\")\r\n",
    "#                      .format(datetime.datetime.now().strftime(\"%Y-%m-%d\"))\r\n",
    "\r\n",
    "#     if os.path.isfile(filename):             # if already exists\r\n",
    "#         fn2 = filename[0:-4]+'_{0}.avi'          # modify pattern to include a number\r\n",
    "#         count = 1\r\n",
    "#         while os.path.isfile(fn2.format(count)): # increase number until file not exists\r\n",
    "#             count += 1\r\n",
    "#         return fn2.format(count)                 # return file with number in it\r\n",
    "\r\n",
    "#     else:                                    # filename ok, return it\r\n",
    "#         return filename\r\n",
    "\r\n",
    "# # test it   \r\n",
    "# for in range(5):\r\n",
    "#     with open(getAviNameWithDate(\"a.avi\"),\"w\") as w:\r\n",
    "#         w.write(\"1\")"
   ],
   "outputs": [],
   "metadata": {}
  }
 ],
 "metadata": {
  "kernelspec": {
   "display_name": "Python 3 (ipykernel)",
   "language": "python",
   "name": "python3"
  },
  "language_info": {
   "codemirror_mode": {
    "name": "ipython",
    "version": 3
   },
   "file_extension": ".py",
   "mimetype": "text/x-python",
   "name": "python",
   "nbconvert_exporter": "python",
   "pygments_lexer": "ipython3",
   "version": "3.8.11"
  }
 },
 "nbformat": 4,
 "nbformat_minor": 5
}