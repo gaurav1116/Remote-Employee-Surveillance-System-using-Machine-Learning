{
 "cells": [
  {
   "cell_type": "markdown",
   "source": [
    "Importing the libraries"
   ],
   "metadata": {}
  },
  {
   "cell_type": "code",
<<<<<<< HEAD
   "execution_count": 41,
=======
<<<<<<< HEAD
   "execution_count": 11,
=======
   "execution_count": 31,
>>>>>>> d2d9e50520da82f1789afc08917c0a76388d7691
>>>>>>> 1a774b7a27a451ad0c9d3f38bc2ce3eb0a6bed41
   "source": [
    "import os\r\n",
    "import cv2\r\n",
    "from keras.models import load_model\r\n",
    "import numpy as np\r\n",
    "from pygame import mixer\r\n",
    "import datetime\r\n",
    "import time # Timer\r\n",
    "import sys  # Timer\r\n",
    "import socket\r\n",
    "from twilio.rest import Client"
   ],
   "outputs": [],
   "metadata": {}
  },
  {
   "cell_type": "markdown",
   "source": [
    "Initializing Pygame Mixer and assigning Alarm file to mixer "
   ],
   "metadata": {}
  },
  {
   "cell_type": "code",
<<<<<<< HEAD
   "execution_count": 42,
=======
<<<<<<< HEAD
   "execution_count": 12,
=======
   "execution_count": 32,
>>>>>>> d2d9e50520da82f1789afc08917c0a76388d7691
>>>>>>> 1a774b7a27a451ad0c9d3f38bc2ce3eb0a6bed41
   "source": [
    "mixer.init()\r\n",
    "sound = mixer.Sound('alarm.mp3')"
   ],
   "outputs": [],
   "metadata": {}
  },
  {
   "cell_type": "markdown",
   "source": [
    "Initializing Timer variables to zero and creating object of Timer"
   ],
   "metadata": {}
  },
  {
   "cell_type": "code",
<<<<<<< HEAD
   "execution_count": 43,
=======
<<<<<<< HEAD
   "execution_count": 13,
=======
   "execution_count": 33,
>>>>>>> d2d9e50520da82f1789afc08917c0a76388d7691
>>>>>>> 1a774b7a27a451ad0c9d3f38bc2ce3eb0a6bed41
   "source": [
    "# time_start = time.time()\r\n",
    "# seconds = 0\r\n",
    "# minutes = 0"
   ],
   "outputs": [],
   "metadata": {}
  },
  {
   "cell_type": "markdown",
   "source": [
    "Setting Remote server to 1.1.1.1 and Creating Internet Conncetion Checker function"
   ],
   "metadata": {}
  },
  {
   "cell_type": "code",
<<<<<<< HEAD
   "execution_count": 44,
=======
<<<<<<< HEAD
   "execution_count": 14,
=======
   "execution_count": 34,
>>>>>>> d2d9e50520da82f1789afc08917c0a76388d7691
>>>>>>> 1a774b7a27a451ad0c9d3f38bc2ce3eb0a6bed41
   "source": [
    "REMOTE_SERVER = \"1.1.1.1\"\r\n",
    "\r\n",
    "def is_connected(hostname):\r\n",
    "  try:\r\n",
    "    host = socket.gethostbyname(hostname)\r\n",
    "    s = socket.create_connection((host, 80), 2)\r\n",
    "    s.close()\r\n",
    "    return 'True'\r\n",
    "  except:\r\n",
    "     pass\r\n",
    "  return 'False'"
   ],
   "outputs": [],
   "metadata": {}
  },
  {
   "cell_type": "markdown",
   "source": [
    "Creating a function for Setting File names for Video files recorded during drowsy state"
   ],
   "metadata": {}
  },
  {
   "cell_type": "code",
<<<<<<< HEAD
   "execution_count": 45,
=======
<<<<<<< HEAD
   "execution_count": 15,
=======
   "execution_count": 35,
>>>>>>> d2d9e50520da82f1789afc08917c0a76388d7691
>>>>>>> 1a774b7a27a451ad0c9d3f38bc2ce3eb0a6bed41
   "source": [
    "def getAviNameWithDate(nameIn=\"Video.avi\"):\r\n",
    "    if not nameIn.endswith(\".avi\"):\r\n",
    "        raise ValueError(\"filename must end on .avi\")\r\n",
    "\r\n",
    "    filename = nameIn.replace(\".avi\",\"_{0}.avi\").format(datetime.datetime.now().strftime(\"%Y-%m-%d-%I-%M-%S\"))\r\n",
    "\r\n",
    "    if os.path.isfile(filename):             # if already exists\r\n",
    "        fn2 = filename[0:-4]+'_{0}.avi'          # modify pattern to include a number\r\n",
    "        count = 1\r\n",
    "        while os.path.isfile(fn2.format(count)): # increase number until file not exists\r\n",
    "            count += 1\r\n",
    "            return fn2.format(count)                 # return file with number in it\r\n",
    "    else:                                    # filename ok, return it\r\n",
    "        return filename\r\n",
    "        \r\n",
    "# def build_filename(name, num=0):\r\n",
    "#     root, ext = os.path.splitext(name)\r\n",
    "#     return '%s%d%s' % (root, num, ext) if num else name\r\n",
    "\r\n",
    "# def find_next_filename(name, max_tries=20):\r\n",
    "#     if not os.path.exists(name): return name\r\n",
    "#     else:\r\n",
    "#         for i in range(max_tries):\r\n",
    "#             test_name = build_filename(name, i+1)\r\n",
    "#             if not os.path.exists(test_name): \r\n",
    "#                 return test_name\r\n",
    "#         return None "
   ],
   "outputs": [],
   "metadata": {}
  },
  {
   "cell_type": "markdown",
   "source": [
    "Setting file paths for cascade and Model files"
   ],
   "metadata": {}
  },
  {
   "cell_type": "code",
<<<<<<< HEAD
   "execution_count": 46,
=======
<<<<<<< HEAD
   "execution_count": 16,
=======
   "execution_count": 36,
>>>>>>> d2d9e50520da82f1789afc08917c0a76388d7691
>>>>>>> 1a774b7a27a451ad0c9d3f38bc2ce3eb0a6bed41
   "source": [
    "face = cv2.CascadeClassifier('haar cascade files\\haarcascade_frontalface_alt.xml')\r\n",
    "leye = cv2.CascadeClassifier('haar cascade files\\haarcascade_lefteye_2splits.xml')\r\n",
    "reye = cv2.CascadeClassifier('haar cascade files\\haarcascade_righteye_2splits.xml')\r\n",
    "model = load_model('models/cnncat2.h5')"
   ],
   "outputs": [],
   "metadata": {}
  },
  {
   "cell_type": "markdown",
   "source": [
    "Setting Twilio Account sID and authentication token"
   ],
   "metadata": {}
  },
  {
   "cell_type": "code",
<<<<<<< HEAD
   "execution_count": 47,
=======
<<<<<<< HEAD
   "execution_count": 17,
=======
   "execution_count": 37,
>>>>>>> d2d9e50520da82f1789afc08917c0a76388d7691
>>>>>>> 1a774b7a27a451ad0c9d3f38bc2ce3eb0a6bed41
   "source": [
    "account_sid = \"AC305eed341fc053d5e854b401e15568b0\"\r\n",
    "auth_token = \"1be8d95ea47b77933ff5b31ccbc5c2e5\"\r\n",
    "client = Client(account_sid, auth_token)"
   ],
   "outputs": [],
   "metadata": {}
  },
  {
   "cell_type": "markdown",
   "source": [
    "Assigning all prediction related variables and fontstyle for label"
   ],
   "metadata": {}
  },
  {
   "cell_type": "code",
<<<<<<< HEAD
   "execution_count": 48,
=======
<<<<<<< HEAD
   "execution_count": 18,
=======
   "execution_count": 38,
>>>>>>> d2d9e50520da82f1789afc08917c0a76388d7691
>>>>>>> 1a774b7a27a451ad0c9d3f38bc2ce3eb0a6bed41
   "source": [
    "path = os.getcwd()\r\n",
    "cap = cv2.VideoCapture(0)\r\n",
    "\r\n",
    "lbl=['Close','Open']\r\n",
    "font = cv2.FONT_HERSHEY_COMPLEX_SMALL\r\n",
    "\r\n",
    "count=0\r\n",
    "score=0\r\n",
    "thicc=2\r\n",
    "\r\n",
    "rpred=[99]\r\n",
    "lpred=[99]"
   ],
   "outputs": [],
   "metadata": {}
  },
  {
   "cell_type": "code",
<<<<<<< HEAD
   "execution_count": 49,
=======
<<<<<<< HEAD
   "execution_count": 19,
=======
   "execution_count": 39,
>>>>>>> d2d9e50520da82f1789afc08917c0a76388d7691
>>>>>>> 1a774b7a27a451ad0c9d3f38bc2ce3eb0a6bed41
   "source": [
    "while(True):\r\n",
    "    \r\n",
    "    ret, frame = cap.read()\r\n",
    "    height,width = frame.shape[:2]\r\n",
    "    \r\n",
    "    time_start = time.time()\r\n",
    "    seconds = 0\r\n",
    "    minutes = 0\r\n",
    "\r\n",
    "#     contrast = 0\r\n",
    "#     brightness = 200\r\n",
    "    \r\n",
    "#     frame[:,:,2] = np.clip(contrast * frame[:,:,2] + brightness,0, 255)\r\n",
    "#     frame = cv2.cvtColor(frame, cv2.COLOR_HSV2BGR)\r\n",
    "    \r\n",
    "    gray = cv2.cvtColor(frame, cv2.COLOR_BGR2GRAY)\r\n",
    "    \r\n",
    "    faces = face.detectMultiScale(gray,minNeighbors=5,scaleFactor=1.1,minSize=(25,25))\r\n",
    "    left_eye = leye.detectMultiScale(gray)\r\n",
    "    right_eye =  reye.detectMultiScale(gray)\r\n",
    "\r\n",
    "    cv2.rectangle(frame, (0,height-50) , (200,height) , (0,0,0) , thickness=cv2.FILLED )\r\n",
    "\r\n",
    "    for (x,y,w,h) in faces:\r\n",
    "        cv2.rectangle(frame, (x,y) , (x+w,y+h) , (100,100,100) , 1 )\r\n",
    "    \r\n",
    "    for (x,y,w,h) in left_eye:\r\n",
    "        cv2.rectangle(frame, (x,y) , (x+w,y+h) , (0,0,0) , 1 )\r\n",
    "\r\n",
    "    for (x,y,w,h) in right_eye:\r\n",
    "        cv2.rectangle(frame, (x,y) , (x+w,y+h) , (0,0,0) , 1 )\r\n",
    "\r\n",
    "    for (x,y,w,h) in right_eye:\r\n",
    "        r_eye=frame[y:y+h,x:x+w]\r\n",
    "        count=count+1\r\n",
    "        r_eye = cv2.cvtColor(r_eye,cv2.COLOR_BGR2GRAY)\r\n",
    "        r_eye = cv2.resize(r_eye,(24,24))\r\n",
    "        r_eye= r_eye/255\r\n",
    "        r_eye=  r_eye.reshape(24,24,-1)\r\n",
    "        r_eye = np.expand_dims(r_eye,axis=0)\r\n",
    "        rpred = np.argmax(model.predict(r_eye), axis=-1)\r\n",
    "#         rpred = model.predict_classes(r_eye)\r\n",
    "        if(rpred[0]==1):\r\n",
    "            lbl='Open' \r\n",
    "        if(rpred[0]==0):\r\n",
    "            lbl='Closed'\r\n",
    "        break\r\n",
    "\r\n",
    "    for (x,y,w,h) in left_eye:\r\n",
    "        l_eye=frame[y:y+h,x:x+w]\r\n",
    "        count=count+1\r\n",
    "        l_eye = cv2.cvtColor(l_eye,cv2.COLOR_BGR2GRAY)  \r\n",
    "        l_eye = cv2.resize(l_eye,(24,24))\r\n",
    "        l_eye= l_eye/255\r\n",
    "        l_eye=l_eye.reshape(24,24,-1)\r\n",
    "        l_eye = np.expand_dims(l_eye,axis=0)\r\n",
    "#         lpred = model.predict_classes(l_eye)\r\n",
    "        lpred = np.argmax(model.predict(l_eye), axis=-1)\r\n",
    "        if(lpred[0]==1):\r\n",
    "            lbl='Open'   \r\n",
    "        if(lpred[0]==0):\r\n",
    "            lbl='Closed'\r\n",
    "        break\r\n",
    "        \r\n",
    "    if(rpred[0]==0 and lpred[0]==0):\r\n",
    "        score=score+1\r\n",
    "        cv2.putText(frame,\"Closed\",(10,height-20), font, 1,(255,255,255),1,cv2.LINE_AA)\r\n",
    "    # if(rpred[0]==1 or lpred[0]==1):\r\n",
    "    else:\r\n",
    "        score=0\r\n",
    "        cv2.putText(frame,\"Open\",(10,height-20), font, 1,(255,255,255),1,cv2.LINE_AA)\r\n",
    "        \r\n",
    "##----Score loops start from here------##\r\n",
    "        \r\n",
    "#     if(score<0):\r\n",
    "#         score=0   \r\n",
    "    cv2.putText(frame,'Score:'+str(score),(100,height-20), font, 1,(255,255,255),1,cv2.LINE_AA)\r\n",
    "        \r\n",
    "#     if(score>50 and score<60):\r\n",
    "        \r\n",
    "#         #Give an audio alert to the employee\r\n",
    "#         try:\r\n",
    "#             sound.play()\r\n",
    "#         except:  # isplaying = False\r\n",
    "#             pass\r\n",
    "    \r\n",
    "    # if(score==61):  \r\n",
    "        \r\n",
    "    #     #Save image of employee in drowsy state\r\n",
    "    #     cv2.imwrite(os.path.join(path,'proof.jpg'),frame)\r\n",
    "        \r\n",
    "#         #Send a message alert to employer's phone\r\n",
    "        # message = client.messages \\\r\n",
    "        # .create(body='Hello Niraj sir! Gaurav is sleeping!',from_='+18787288786',to='+919271909065')\r\n",
    "\r\n",
    "#     if(score==19):\r\n",
    "#         fourcc = cv2.VideoWriter_fourcc(*'XVID')\r\n",
    "#         out = cv2.VideoWriter(find_next_filename('myfile.avi'), fourcc, 5.0, (640,480))\r\n",
    "#         out = cv2.VideoWriter(getAviNameWithDate(),fourcc, 5.0, (640,480))\r\n",
    "\r\n",
    "#     if(score>20 and score<150):\r\n",
    "        \r\n",
    "#         #writes and saves videos\r\n",
    "#         out.write(frame)\r\n",
    "#         out.release()\r\n",
    "    \r\n",
<<<<<<< HEAD
    "#------ Checking for internet connection throughout the run------\r\n",
    "    \r\n",
=======
    "#------ Checking for internet connection throughout the run------#\r\n",
>>>>>>> d2d9e50520da82f1789afc08917c0a76388d7691
    "    while is_connected(REMOTE_SERVER) == 'False':\r\n",
    "        try:\r\n",
    "            sys.stdout.write(\"\\r{minutes} Minutes {seconds} Seconds\".format(minutes=minutes, seconds=seconds))\r\n",
    "            sys.stdout.flush()\r\n",
    "            time.sleep(1)\r\n",
    "            seconds = int(time.time() - time_start) - minutes * 60\r\n",
    "            if seconds >= 60:\r\n",
    "                minutes += 1\r\n",
    "                seconds = 0\r\n",
    "        except KeyboardInterrupt:\r\n",
    "            break\r\n",
    "        \r\n",
    "    cv2.imshow('frame',frame)\r\n",
    "\r\n",
    "    if cv2.waitKey(1) & 0xFF == ord('q'):\r\n",
    "        break"
   ],
<<<<<<< HEAD
   "outputs": [],
=======
   "outputs": [
    {
     "output_type": "stream",
     "name": "stdout",
     "text": [
<<<<<<< HEAD
      "1 Minutes 15 Seconds"
=======
      "0 Minutes 6 Seconds"
>>>>>>> d2d9e50520da82f1789afc08917c0a76388d7691
     ]
    }
   ],
>>>>>>> 1a774b7a27a451ad0c9d3f38bc2ce3eb0a6bed41
   "metadata": {}
  },
  {
   "cell_type": "markdown",
   "source": [
    "Releasing CV2 Object and VideoCapture instance when job is finished"
   ],
   "metadata": {}
  },
  {
   "cell_type": "code",
<<<<<<< HEAD
   "execution_count": 50,
=======
   "execution_count": 20,
>>>>>>> 1a774b7a27a451ad0c9d3f38bc2ce3eb0a6bed41
   "source": [
    "cap.release()\r\n",
    "cv2.destroyAllWindows()"
   ],
   "outputs": [],
   "metadata": {}
  }
 ],
 "metadata": {
  "interpreter": {
   "hash": "d387ae95f08503984f6996a4a029d8d93b498369ddcb30b75e093d7bf8296222"
  },
  "kernelspec": {
   "name": "python3",
   "display_name": "Python 3.9.6 64-bit"
  },
  "language_info": {
   "codemirror_mode": {
    "name": "ipython",
    "version": 3
   },
   "file_extension": ".py",
   "mimetype": "text/x-python",
   "name": "python",
   "nbconvert_exporter": "python",
   "pygments_lexer": "ipython3",
   "version": "3.9.6"
  }
 },
 "nbformat": 4,
 "nbformat_minor": 5
}